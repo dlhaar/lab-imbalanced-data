{
 "cells": [
  {
   "cell_type": "markdown",
   "id": "7c6f0a85-c158-4d33-8216-e97831d7c21d",
   "metadata": {},
   "source": [
    "# Lab | Imbalanced Data\n",
    "\n",
    "We will be using the files_for_lab/customer_churn.csv dataset to build a churn predictor."
   ]
  },
  {
   "cell_type": "code",
   "execution_count": 1,
   "id": "eee77450-779c-4bc7-b26b-d29c2bc29f07",
   "metadata": {},
   "outputs": [],
   "source": [
    "import numpy as np\n",
    "import pandas as pd\n",
    "from sklearn.linear_model import LogisticRegression\n",
    "from sklearn.preprocessing import MinMaxScaler"
   ]
  },
  {
   "cell_type": "code",
   "execution_count": 2,
   "id": "a573ad27-1685-4656-b3ba-6d3d084fcdfe",
   "metadata": {},
   "outputs": [
    {
     "data": {
      "text/html": [
       "<div>\n",
       "<style scoped>\n",
       "    .dataframe tbody tr th:only-of-type {\n",
       "        vertical-align: middle;\n",
       "    }\n",
       "\n",
       "    .dataframe tbody tr th {\n",
       "        vertical-align: top;\n",
       "    }\n",
       "\n",
       "    .dataframe thead th {\n",
       "        text-align: right;\n",
       "    }\n",
       "</style>\n",
       "<table border=\"1\" class=\"dataframe\">\n",
       "  <thead>\n",
       "    <tr style=\"text-align: right;\">\n",
       "      <th></th>\n",
       "      <th>customerID</th>\n",
       "      <th>gender</th>\n",
       "      <th>SeniorCitizen</th>\n",
       "      <th>Partner</th>\n",
       "      <th>Dependents</th>\n",
       "      <th>tenure</th>\n",
       "      <th>PhoneService</th>\n",
       "      <th>MultipleLines</th>\n",
       "      <th>InternetService</th>\n",
       "      <th>OnlineSecurity</th>\n",
       "      <th>...</th>\n",
       "      <th>DeviceProtection</th>\n",
       "      <th>TechSupport</th>\n",
       "      <th>StreamingTV</th>\n",
       "      <th>StreamingMovies</th>\n",
       "      <th>Contract</th>\n",
       "      <th>PaperlessBilling</th>\n",
       "      <th>PaymentMethod</th>\n",
       "      <th>MonthlyCharges</th>\n",
       "      <th>TotalCharges</th>\n",
       "      <th>Churn</th>\n",
       "    </tr>\n",
       "  </thead>\n",
       "  <tbody>\n",
       "    <tr>\n",
       "      <th>0</th>\n",
       "      <td>7590-VHVEG</td>\n",
       "      <td>Female</td>\n",
       "      <td>0</td>\n",
       "      <td>Yes</td>\n",
       "      <td>No</td>\n",
       "      <td>1</td>\n",
       "      <td>No</td>\n",
       "      <td>No phone service</td>\n",
       "      <td>DSL</td>\n",
       "      <td>No</td>\n",
       "      <td>...</td>\n",
       "      <td>No</td>\n",
       "      <td>No</td>\n",
       "      <td>No</td>\n",
       "      <td>No</td>\n",
       "      <td>Month-to-month</td>\n",
       "      <td>Yes</td>\n",
       "      <td>Electronic check</td>\n",
       "      <td>29.85</td>\n",
       "      <td>29.85</td>\n",
       "      <td>No</td>\n",
       "    </tr>\n",
       "    <tr>\n",
       "      <th>1</th>\n",
       "      <td>5575-GNVDE</td>\n",
       "      <td>Male</td>\n",
       "      <td>0</td>\n",
       "      <td>No</td>\n",
       "      <td>No</td>\n",
       "      <td>34</td>\n",
       "      <td>Yes</td>\n",
       "      <td>No</td>\n",
       "      <td>DSL</td>\n",
       "      <td>Yes</td>\n",
       "      <td>...</td>\n",
       "      <td>Yes</td>\n",
       "      <td>No</td>\n",
       "      <td>No</td>\n",
       "      <td>No</td>\n",
       "      <td>One year</td>\n",
       "      <td>No</td>\n",
       "      <td>Mailed check</td>\n",
       "      <td>56.95</td>\n",
       "      <td>1889.5</td>\n",
       "      <td>No</td>\n",
       "    </tr>\n",
       "    <tr>\n",
       "      <th>2</th>\n",
       "      <td>3668-QPYBK</td>\n",
       "      <td>Male</td>\n",
       "      <td>0</td>\n",
       "      <td>No</td>\n",
       "      <td>No</td>\n",
       "      <td>2</td>\n",
       "      <td>Yes</td>\n",
       "      <td>No</td>\n",
       "      <td>DSL</td>\n",
       "      <td>Yes</td>\n",
       "      <td>...</td>\n",
       "      <td>No</td>\n",
       "      <td>No</td>\n",
       "      <td>No</td>\n",
       "      <td>No</td>\n",
       "      <td>Month-to-month</td>\n",
       "      <td>Yes</td>\n",
       "      <td>Mailed check</td>\n",
       "      <td>53.85</td>\n",
       "      <td>108.15</td>\n",
       "      <td>Yes</td>\n",
       "    </tr>\n",
       "    <tr>\n",
       "      <th>3</th>\n",
       "      <td>7795-CFOCW</td>\n",
       "      <td>Male</td>\n",
       "      <td>0</td>\n",
       "      <td>No</td>\n",
       "      <td>No</td>\n",
       "      <td>45</td>\n",
       "      <td>No</td>\n",
       "      <td>No phone service</td>\n",
       "      <td>DSL</td>\n",
       "      <td>Yes</td>\n",
       "      <td>...</td>\n",
       "      <td>Yes</td>\n",
       "      <td>Yes</td>\n",
       "      <td>No</td>\n",
       "      <td>No</td>\n",
       "      <td>One year</td>\n",
       "      <td>No</td>\n",
       "      <td>Bank transfer (automatic)</td>\n",
       "      <td>42.30</td>\n",
       "      <td>1840.75</td>\n",
       "      <td>No</td>\n",
       "    </tr>\n",
       "    <tr>\n",
       "      <th>4</th>\n",
       "      <td>9237-HQITU</td>\n",
       "      <td>Female</td>\n",
       "      <td>0</td>\n",
       "      <td>No</td>\n",
       "      <td>No</td>\n",
       "      <td>2</td>\n",
       "      <td>Yes</td>\n",
       "      <td>No</td>\n",
       "      <td>Fiber optic</td>\n",
       "      <td>No</td>\n",
       "      <td>...</td>\n",
       "      <td>No</td>\n",
       "      <td>No</td>\n",
       "      <td>No</td>\n",
       "      <td>No</td>\n",
       "      <td>Month-to-month</td>\n",
       "      <td>Yes</td>\n",
       "      <td>Electronic check</td>\n",
       "      <td>70.70</td>\n",
       "      <td>151.65</td>\n",
       "      <td>Yes</td>\n",
       "    </tr>\n",
       "  </tbody>\n",
       "</table>\n",
       "<p>5 rows × 21 columns</p>\n",
       "</div>"
      ],
      "text/plain": [
       "   customerID  gender  SeniorCitizen Partner Dependents  tenure PhoneService  \\\n",
       "0  7590-VHVEG  Female              0     Yes         No       1           No   \n",
       "1  5575-GNVDE    Male              0      No         No      34          Yes   \n",
       "2  3668-QPYBK    Male              0      No         No       2          Yes   \n",
       "3  7795-CFOCW    Male              0      No         No      45           No   \n",
       "4  9237-HQITU  Female              0      No         No       2          Yes   \n",
       "\n",
       "      MultipleLines InternetService OnlineSecurity  ... DeviceProtection  \\\n",
       "0  No phone service             DSL             No  ...               No   \n",
       "1                No             DSL            Yes  ...              Yes   \n",
       "2                No             DSL            Yes  ...               No   \n",
       "3  No phone service             DSL            Yes  ...              Yes   \n",
       "4                No     Fiber optic             No  ...               No   \n",
       "\n",
       "  TechSupport StreamingTV StreamingMovies        Contract PaperlessBilling  \\\n",
       "0          No          No              No  Month-to-month              Yes   \n",
       "1          No          No              No        One year               No   \n",
       "2          No          No              No  Month-to-month              Yes   \n",
       "3         Yes          No              No        One year               No   \n",
       "4          No          No              No  Month-to-month              Yes   \n",
       "\n",
       "               PaymentMethod MonthlyCharges  TotalCharges Churn  \n",
       "0           Electronic check          29.85         29.85    No  \n",
       "1               Mailed check          56.95        1889.5    No  \n",
       "2               Mailed check          53.85        108.15   Yes  \n",
       "3  Bank transfer (automatic)          42.30       1840.75    No  \n",
       "4           Electronic check          70.70        151.65   Yes  \n",
       "\n",
       "[5 rows x 21 columns]"
      ]
     },
     "execution_count": 2,
     "metadata": {},
     "output_type": "execute_result"
    }
   ],
   "source": [
    "#getting data\n",
    "path_name = 'files_for_lab/'\n",
    "file_name = 'customer_churn.csv'\n",
    "data = pd.read_csv(path_name+file_name)\n",
    "data.head()"
   ]
  },
  {
   "cell_type": "markdown",
   "id": "1ad0b52c-f472-4bc4-abb9-23f9141738af",
   "metadata": {},
   "source": [
    "### Exploring Data\n",
    "\n",
    "We will try to predict variable Churn using a logistic regression on variables tenure, SeniorCitizen,MonthlyCharges. Looking at these more closely..."
   ]
  },
  {
   "cell_type": "code",
   "execution_count": 3,
   "id": "b031409a-5d06-491a-858e-ee51f19488a3",
   "metadata": {},
   "outputs": [
    {
     "data": {
      "text/html": [
       "<div>\n",
       "<style scoped>\n",
       "    .dataframe tbody tr th:only-of-type {\n",
       "        vertical-align: middle;\n",
       "    }\n",
       "\n",
       "    .dataframe tbody tr th {\n",
       "        vertical-align: top;\n",
       "    }\n",
       "\n",
       "    .dataframe thead th {\n",
       "        text-align: right;\n",
       "    }\n",
       "</style>\n",
       "<table border=\"1\" class=\"dataframe\">\n",
       "  <thead>\n",
       "    <tr style=\"text-align: right;\">\n",
       "      <th></th>\n",
       "      <th>SeniorCitizen</th>\n",
       "      <th>tenure</th>\n",
       "      <th>MonthlyCharges</th>\n",
       "      <th>Churn</th>\n",
       "    </tr>\n",
       "  </thead>\n",
       "  <tbody>\n",
       "    <tr>\n",
       "      <th>0</th>\n",
       "      <td>0</td>\n",
       "      <td>1</td>\n",
       "      <td>29.85</td>\n",
       "      <td>No</td>\n",
       "    </tr>\n",
       "    <tr>\n",
       "      <th>1</th>\n",
       "      <td>0</td>\n",
       "      <td>34</td>\n",
       "      <td>56.95</td>\n",
       "      <td>No</td>\n",
       "    </tr>\n",
       "    <tr>\n",
       "      <th>2</th>\n",
       "      <td>0</td>\n",
       "      <td>2</td>\n",
       "      <td>53.85</td>\n",
       "      <td>Yes</td>\n",
       "    </tr>\n",
       "    <tr>\n",
       "      <th>3</th>\n",
       "      <td>0</td>\n",
       "      <td>45</td>\n",
       "      <td>42.30</td>\n",
       "      <td>No</td>\n",
       "    </tr>\n",
       "    <tr>\n",
       "      <th>4</th>\n",
       "      <td>0</td>\n",
       "      <td>2</td>\n",
       "      <td>70.70</td>\n",
       "      <td>Yes</td>\n",
       "    </tr>\n",
       "  </tbody>\n",
       "</table>\n",
       "</div>"
      ],
      "text/plain": [
       "   SeniorCitizen  tenure  MonthlyCharges Churn\n",
       "0              0       1           29.85    No\n",
       "1              0      34           56.95    No\n",
       "2              0       2           53.85   Yes\n",
       "3              0      45           42.30    No\n",
       "4              0       2           70.70   Yes"
      ]
     },
     "execution_count": 3,
     "metadata": {},
     "output_type": "execute_result"
    }
   ],
   "source": [
    "data = data[['SeniorCitizen', 'tenure', 'MonthlyCharges', 'Churn']]\n",
    "data.head()"
   ]
  },
  {
   "cell_type": "code",
   "execution_count": 4,
   "id": "bd7ceecf-df9a-4209-9341-06570825b098",
   "metadata": {},
   "outputs": [],
   "source": [
    "#cleaning column names\n",
    "data.rename(columns = {'SeniorCitizen':'senior_citizen',\n",
    "                       'MonthlyCharges':'monthly_charges',\n",
    "                       'Churn':'churn'}, inplace=True)"
   ]
  },
  {
   "cell_type": "code",
   "execution_count": 5,
   "id": "c14ccab8-7a57-44ca-a71d-b0fe7782c4f8",
   "metadata": {},
   "outputs": [
    {
     "name": "stdout",
     "output_type": "stream",
     "text": [
      "<class 'pandas.core.frame.DataFrame'>\n",
      "RangeIndex: 7043 entries, 0 to 7042\n",
      "Data columns (total 4 columns):\n",
      " #   Column           Non-Null Count  Dtype  \n",
      "---  ------           --------------  -----  \n",
      " 0   senior_citizen   7043 non-null   int64  \n",
      " 1   tenure           7043 non-null   int64  \n",
      " 2   monthly_charges  7043 non-null   float64\n",
      " 3   churn            7043 non-null   object \n",
      "dtypes: float64(1), int64(2), object(1)\n",
      "memory usage: 220.2+ KB\n"
     ]
    }
   ],
   "source": [
    "data.info()"
   ]
  },
  {
   "cell_type": "code",
   "execution_count": 6,
   "id": "a0969565-c5b6-4841-9193-21d93e1d2f5e",
   "metadata": {},
   "outputs": [
    {
     "data": {
      "text/plain": [
       "array([0, 1])"
      ]
     },
     "execution_count": 6,
     "metadata": {},
     "output_type": "execute_result"
    }
   ],
   "source": [
    "data.senior_citizen.unique()"
   ]
  },
  {
   "cell_type": "markdown",
   "id": "359255d2-fb69-459f-8b89-dd73b34dc70e",
   "metadata": {},
   "source": [
    "### Nulls\n",
    "- there are no nulls to deal with\n",
    "\n",
    "### Variable types\n",
    "- `senior_citizen` appears to be a categorical value, it should be changed to an object"
   ]
  },
  {
   "cell_type": "code",
   "execution_count": 7,
   "id": "33e8152d-400d-4d54-b58c-c5b3bc2767ef",
   "metadata": {},
   "outputs": [],
   "source": [
    "data.senior_citizen = data.senior_citizen.astype(str)"
   ]
  },
  {
   "cell_type": "code",
   "execution_count": 8,
   "id": "c833564b-c800-4eab-8d67-bcab8922e183",
   "metadata": {},
   "outputs": [
    {
     "name": "stdout",
     "output_type": "stream",
     "text": [
      "<class 'pandas.core.frame.DataFrame'>\n",
      "RangeIndex: 7043 entries, 0 to 7042\n",
      "Data columns (total 4 columns):\n",
      " #   Column           Non-Null Count  Dtype  \n",
      "---  ------           --------------  -----  \n",
      " 0   senior_citizen   7043 non-null   object \n",
      " 1   tenure           7043 non-null   int64  \n",
      " 2   monthly_charges  7043 non-null   float64\n",
      " 3   churn            7043 non-null   object \n",
      "dtypes: float64(1), int64(1), object(2)\n",
      "memory usage: 220.2+ KB\n"
     ]
    }
   ],
   "source": [
    "data.info()"
   ]
  },
  {
   "cell_type": "markdown",
   "id": "967dafd1-daa5-43bb-a1f6-febdce9e992f",
   "metadata": {},
   "source": [
    "### Checking count and distributions for variables"
   ]
  },
  {
   "cell_type": "code",
   "execution_count": 9,
   "id": "a81b774f-21c6-4d01-b147-2d2c44b8f7ad",
   "metadata": {},
   "outputs": [],
   "source": [
    "import matplotlib.pyplot as plt\n",
    "import seaborn as sns"
   ]
  },
  {
   "cell_type": "code",
   "execution_count": 10,
   "id": "cf7a68fe-83b7-471d-a511-bbc947e50356",
   "metadata": {},
   "outputs": [
    {
     "data": {
      "image/png": "[encoded data removed]",
      "text/plain": [
       "<Figure size 640x480 with 1 Axes>"
      ]
     },
     "metadata": {},
     "output_type": "display_data"
    }
   ],
   "source": [
    "sns.countplot(x='senior_citizen', data=data);\n",
    "plt.show()"
   ]
  },
  {
   "cell_type": "markdown",
   "id": "98d4ed94-3836-4424-bc08-054a5b95286c",
   "metadata": {},
   "source": [
    "`senior_citizen` is very unbalanced"
   ]
  },
  {
   "cell_type": "code",
   "execution_count": 11,
   "id": "d07515a0-8c6e-4591-a290-3106338e0fa3",
   "metadata": {},
   "outputs": [
    {
     "data": {
      "image/png": "[encoded data removed]",
      "text/plain": [
       "<Figure size 640x480 with 1 Axes>"
      ]
     },
     "metadata": {},
     "output_type": "display_data"
    }
   ],
   "source": [
    "sns.histplot(x='tenure', data=data)\n",
    "plt.show()"
   ]
  },
  {
   "cell_type": "code",
   "execution_count": 12,
   "id": "edb9559c-d67e-4a2a-b4b3-6413ce4722de",
   "metadata": {},
   "outputs": [
    {
     "data": {
      "text/plain": [
       "0.2395397495619829"
      ]
     },
     "execution_count": 12,
     "metadata": {},
     "output_type": "execute_result"
    }
   ],
   "source": [
    "data.tenure.skew()"
   ]
  },
  {
   "cell_type": "code",
   "execution_count": 13,
   "id": "acc6cbfd-1a53-49aa-a81d-a42c368f1673",
   "metadata": {},
   "outputs": [
    {
     "data": {
      "image/png": "[encoded data removed]",
      "text/plain": [
       "<Figure size 640x480 with 1 Axes>"
      ]
     },
     "metadata": {},
     "output_type": "display_data"
    }
   ],
   "source": [
    "sns.histplot(x='monthly_charges', data=data)\n",
    "plt.show()"
   ]
  },
  {
   "cell_type": "code",
   "execution_count": 14,
   "id": "c8385f8c-bcb5-489c-a33e-2ac2018a2c3c",
   "metadata": {},
   "outputs": [
    {
     "data": {
      "text/plain": [
       "-0.22052443394398033"
      ]
     },
     "execution_count": 14,
     "metadata": {},
     "output_type": "execute_result"
    }
   ],
   "source": [
    "data.monthly_charges.skew()"
   ]
  },
  {
   "cell_type": "code",
   "execution_count": 15,
   "id": "f9522281-c660-4f84-84eb-94cb5aadc76b",
   "metadata": {},
   "outputs": [
    {
     "data": {
      "image/png": "[encoded data removed]",
      "text/plain": [
       "<Figure size 640x480 with 1 Axes>"
      ]
     },
     "metadata": {},
     "output_type": "display_data"
    }
   ],
   "source": [
    "sns.countplot(x='churn', data=data);\n",
    "plt.show()"
   ]
  },
  {
   "cell_type": "code",
   "execution_count": 16,
   "id": "827f1f61-a7a4-418e-aff9-e30ca23d38f3",
   "metadata": {},
   "outputs": [
    {
     "data": {
      "text/html": [
       "<div>\n",
       "<style scoped>\n",
       "    .dataframe tbody tr th:only-of-type {\n",
       "        vertical-align: middle;\n",
       "    }\n",
       "\n",
       "    .dataframe tbody tr th {\n",
       "        vertical-align: top;\n",
       "    }\n",
       "\n",
       "    .dataframe thead th {\n",
       "        text-align: right;\n",
       "    }\n",
       "</style>\n",
       "<table border=\"1\" class=\"dataframe\">\n",
       "  <thead>\n",
       "    <tr style=\"text-align: right;\">\n",
       "      <th></th>\n",
       "      <th>tenure</th>\n",
       "      <th>monthly_charges</th>\n",
       "    </tr>\n",
       "  </thead>\n",
       "  <tbody>\n",
       "    <tr>\n",
       "      <th>count</th>\n",
       "      <td>7043.000000</td>\n",
       "      <td>7043.000000</td>\n",
       "    </tr>\n",
       "    <tr>\n",
       "      <th>mean</th>\n",
       "      <td>32.371149</td>\n",
       "      <td>64.761692</td>\n",
       "    </tr>\n",
       "    <tr>\n",
       "      <th>std</th>\n",
       "      <td>24.559481</td>\n",
       "      <td>30.090047</td>\n",
       "    </tr>\n",
       "    <tr>\n",
       "      <th>min</th>\n",
       "      <td>0.000000</td>\n",
       "      <td>18.250000</td>\n",
       "    </tr>\n",
       "    <tr>\n",
       "      <th>25%</th>\n",
       "      <td>9.000000</td>\n",
       "      <td>35.500000</td>\n",
       "    </tr>\n",
       "    <tr>\n",
       "      <th>50%</th>\n",
       "      <td>29.000000</td>\n",
       "      <td>70.350000</td>\n",
       "    </tr>\n",
       "    <tr>\n",
       "      <th>75%</th>\n",
       "      <td>55.000000</td>\n",
       "      <td>89.850000</td>\n",
       "    </tr>\n",
       "    <tr>\n",
       "      <th>max</th>\n",
       "      <td>72.000000</td>\n",
       "      <td>118.750000</td>\n",
       "    </tr>\n",
       "  </tbody>\n",
       "</table>\n",
       "</div>"
      ],
      "text/plain": [
       "            tenure  monthly_charges\n",
       "count  7043.000000      7043.000000\n",
       "mean     32.371149        64.761692\n",
       "std      24.559481        30.090047\n",
       "min       0.000000        18.250000\n",
       "25%       9.000000        35.500000\n",
       "50%      29.000000        70.350000\n",
       "75%      55.000000        89.850000\n",
       "max      72.000000       118.750000"
      ]
     },
     "execution_count": 16,
     "metadata": {},
     "output_type": "execute_result"
    }
   ],
   "source": [
    "data.describe()"
   ]
  },
  {
   "cell_type": "markdown",
   "id": "de154b3e-53ba-4bcf-b0b7-ce08fee4c91f",
   "metadata": {},
   "source": [
    "### Check for multicollinearity"
   ]
  },
  {
   "cell_type": "code",
   "execution_count": 17,
   "id": "1b22ad10-eba3-469f-9e21-9ad5f865b58e",
   "metadata": {},
   "outputs": [
    {
     "data": {
      "image/png": "[encoded data removed]",
      "text/plain": [
       "<Figure size 640x480 with 2 Axes>"
      ]
     },
     "metadata": {},
     "output_type": "display_data"
    }
   ],
   "source": [
    "import numpy as np\n",
    "nums = data.select_dtypes(include = np.number)\n",
    "nums_matrix = nums.corr()\n",
    "sns.heatmap(nums_matrix, annot=True)\n",
    "plt.show()"
   ]
  },
  {
   "cell_type": "markdown",
   "id": "91946c3d-abbc-4db9-aa39-b283bbe24e5c",
   "metadata": {},
   "source": [
    "The two numeric columns do not correlate with each other so it is ok to include them both."
   ]
  },
  {
   "cell_type": "markdown",
   "id": "0855b7f7-91eb-4a9b-9ef5-245baca91388",
   "metadata": {},
   "source": [
    "### Split X,y"
   ]
  },
  {
   "cell_type": "code",
   "execution_count": 18,
   "id": "7a2f5ed2-a7fd-4800-8e72-447ba2c6bdfc",
   "metadata": {},
   "outputs": [],
   "source": [
    "y = data['churn']\n",
    "X = data.drop('churn', axis=1)"
   ]
  },
  {
   "cell_type": "markdown",
   "id": "35e9fc32-f851-430f-8c65-313b2988f423",
   "metadata": {},
   "source": [
    "### Split Train, Test"
   ]
  },
  {
   "cell_type": "code",
   "execution_count": 19,
   "id": "698a1e3b-d15f-491d-b063-4d975495bc9c",
   "metadata": {},
   "outputs": [],
   "source": [
    "# here we start scaling, so need to do train-test-split before\n",
    "from sklearn.model_selection import train_test_split\n",
    "\n",
    "X_train, X_test, y_train, y_test = train_test_split(X, y, random_state=1) # default test_size value is .2"
   ]
  },
  {
   "cell_type": "markdown",
   "id": "93eec000-110a-4ce3-a78f-fb76bbde22db",
   "metadata": {},
   "source": [
    "### Apply transformations"
   ]
  },
  {
   "cell_type": "markdown",
   "id": "46725314-ed78-4ffb-be9a-540d0f6f0f18",
   "metadata": {},
   "source": [
    "#### Change the (categorical) values in y_train and y_test from `Yes`, `No`, to 1 and 0"
   ]
  },
  {
   "cell_type": "code",
   "execution_count": 20,
   "id": "697c8a9a-8cc1-4412-89cf-c9ffc82e9ab1",
   "metadata": {},
   "outputs": [
    {
     "data": {
      "text/plain": [
       "6463     No\n",
       "289     Yes\n",
       "4356     No\n",
       "6222     No\n",
       "1790    Yes\n",
       "Name: churn, dtype: object"
      ]
     },
     "execution_count": 20,
     "metadata": {},
     "output_type": "execute_result"
    }
   ],
   "source": [
    "y_train[:5]"
   ]
  },
  {
   "cell_type": "code",
   "execution_count": 21,
   "id": "29432bb8-516c-4dab-aa3f-16e2b151cac2",
   "metadata": {},
   "outputs": [],
   "source": [
    "#change y_train, y_test values from True/False to 1/0\n",
    "dict = {'Yes':1, 'No':0}\n",
    "def true_to_one(srs:pd.Series)->pd.Series:\n",
    "    return srs.replace(dict, inplace=True)"
   ]
  },
  {
   "cell_type": "code",
   "execution_count": 22,
   "id": "1db705d9-ccee-439d-81af-f48b6eea94d3",
   "metadata": {},
   "outputs": [],
   "source": [
    "true_to_one(y_train)"
   ]
  },
  {
   "cell_type": "code",
   "execution_count": 23,
   "id": "b7489130-b9da-4672-a042-0cfc1fb2468c",
   "metadata": {},
   "outputs": [],
   "source": [
    "true_to_one(y_test)"
   ]
  },
  {
   "cell_type": "markdown",
   "id": "3cee066b-d8eb-43bd-9bcd-693e1df2b733",
   "metadata": {},
   "source": [
    "#### Scale the numeric columns in X_train and X_test"
   ]
  },
  {
   "cell_type": "code",
   "execution_count": 24,
   "id": "37a72866-67e8-4258-b087-a41ffbc14d62",
   "metadata": {},
   "outputs": [
    {
     "name": "stdout",
     "output_type": "stream",
     "text": [
      "<class 'pandas.core.frame.DataFrame'>\n",
      "Index: 5282 entries, 6463 to 5157\n",
      "Data columns (total 3 columns):\n",
      " #   Column           Non-Null Count  Dtype  \n",
      "---  ------           --------------  -----  \n",
      " 0   senior_citizen   5282 non-null   object \n",
      " 1   tenure           5282 non-null   int64  \n",
      " 2   monthly_charges  5282 non-null   float64\n",
      "dtypes: float64(1), int64(1), object(1)\n",
      "memory usage: 165.1+ KB\n"
     ]
    }
   ],
   "source": [
    "X_train.info()"
   ]
  },
  {
   "cell_type": "code",
   "execution_count": 25,
   "id": "05c67283-c5f5-4f35-bf8b-3ff44a00469b",
   "metadata": {},
   "outputs": [],
   "source": [
    "# split X_train, X_test into numeric and categorical datasets to scale the numeric columns\n",
    "\n",
    "X_train_num = X_train.select_dtypes(include = np.number)\n",
    "X_test_num = X_test.select_dtypes(include = np.number)\n",
    "\n",
    "X_train_cat = X_train.select_dtypes('object')\n",
    "X_test_cat = X_test.select_dtypes('object')"
   ]
  },
  {
   "cell_type": "code",
   "execution_count": 26,
   "id": "44901870-f087-411a-8ba1-04543838a943",
   "metadata": {},
   "outputs": [
    {
     "data": {
      "text/html": [
       "<div>\n",
       "<style scoped>\n",
       "    .dataframe tbody tr th:only-of-type {\n",
       "        vertical-align: middle;\n",
       "    }\n",
       "\n",
       "    .dataframe tbody tr th {\n",
       "        vertical-align: top;\n",
       "    }\n",
       "\n",
       "    .dataframe thead th {\n",
       "        text-align: right;\n",
       "    }\n",
       "</style>\n",
       "<table border=\"1\" class=\"dataframe\">\n",
       "  <thead>\n",
       "    <tr style=\"text-align: right;\">\n",
       "      <th></th>\n",
       "      <th>tenure</th>\n",
       "      <th>monthly_charges</th>\n",
       "    </tr>\n",
       "  </thead>\n",
       "  <tbody>\n",
       "    <tr>\n",
       "      <th>6463</th>\n",
       "      <td>0.819444</td>\n",
       "      <td>0.506474</td>\n",
       "    </tr>\n",
       "    <tr>\n",
       "      <th>289</th>\n",
       "      <td>0.138889</td>\n",
       "      <td>0.264940</td>\n",
       "    </tr>\n",
       "    <tr>\n",
       "      <th>4356</th>\n",
       "      <td>0.041667</td>\n",
       "      <td>0.005478</td>\n",
       "    </tr>\n",
       "    <tr>\n",
       "      <th>6222</th>\n",
       "      <td>0.916667</td>\n",
       "      <td>0.708665</td>\n",
       "    </tr>\n",
       "    <tr>\n",
       "      <th>1790</th>\n",
       "      <td>0.166667</td>\n",
       "      <td>0.596116</td>\n",
       "    </tr>\n",
       "  </tbody>\n",
       "</table>\n",
       "</div>"
      ],
      "text/plain": [
       "        tenure  monthly_charges\n",
       "6463  0.819444         0.506474\n",
       "289   0.138889         0.264940\n",
       "4356  0.041667         0.005478\n",
       "6222  0.916667         0.708665\n",
       "1790  0.166667         0.596116"
      ]
     },
     "execution_count": 26,
     "metadata": {},
     "output_type": "execute_result"
    }
   ],
   "source": [
    "#scale numeric columns - using MinMaxScaler because we have one categorical column in X\n",
    "\n",
    "#fit\n",
    "scaler = MinMaxScaler().fit(X_train_num)\n",
    "\n",
    "#scale X_train_num\n",
    "X_train_scaled_np = scaler.transform(X_train_num)\n",
    "X_train_num_scaled = pd.DataFrame(X_train_scaled_np, columns=X_train_num.columns, index=X_train_num.index)\n",
    "\n",
    "\n",
    "#scale X_test_num\n",
    "X_test_scaled_np = scaler.transform(X_test_num)\n",
    "X_test_num_scaled = pd.DataFrame(X_test_scaled_np , columns=X_test_num.columns, index=X_test_num.index)\n",
    "\n",
    "X_train_num_scaled.head()"
   ]
  },
  {
   "cell_type": "code",
   "execution_count": 27,
   "id": "139cb262-6c70-407c-be87-001110fc01d8",
   "metadata": {},
   "outputs": [
    {
     "data": {
      "text/html": [
       "<div>\n",
       "<style scoped>\n",
       "    .dataframe tbody tr th:only-of-type {\n",
       "        vertical-align: middle;\n",
       "    }\n",
       "\n",
       "    .dataframe tbody tr th {\n",
       "        vertical-align: top;\n",
       "    }\n",
       "\n",
       "    .dataframe thead th {\n",
       "        text-align: right;\n",
       "    }\n",
       "</style>\n",
       "<table border=\"1\" class=\"dataframe\">\n",
       "  <thead>\n",
       "    <tr style=\"text-align: right;\">\n",
       "      <th></th>\n",
       "      <th>senior_citizen</th>\n",
       "      <th>tenure</th>\n",
       "      <th>monthly_charges</th>\n",
       "    </tr>\n",
       "  </thead>\n",
       "  <tbody>\n",
       "    <tr>\n",
       "      <th>6463</th>\n",
       "      <td>0</td>\n",
       "      <td>0.819444</td>\n",
       "      <td>0.506474</td>\n",
       "    </tr>\n",
       "    <tr>\n",
       "      <th>289</th>\n",
       "      <td>0</td>\n",
       "      <td>0.138889</td>\n",
       "      <td>0.264940</td>\n",
       "    </tr>\n",
       "    <tr>\n",
       "      <th>4356</th>\n",
       "      <td>0</td>\n",
       "      <td>0.041667</td>\n",
       "      <td>0.005478</td>\n",
       "    </tr>\n",
       "    <tr>\n",
       "      <th>6222</th>\n",
       "      <td>0</td>\n",
       "      <td>0.916667</td>\n",
       "      <td>0.708665</td>\n",
       "    </tr>\n",
       "    <tr>\n",
       "      <th>1790</th>\n",
       "      <td>0</td>\n",
       "      <td>0.166667</td>\n",
       "      <td>0.596116</td>\n",
       "    </tr>\n",
       "  </tbody>\n",
       "</table>\n",
       "</div>"
      ],
      "text/plain": [
       "     senior_citizen    tenure  monthly_charges\n",
       "6463              0  0.819444         0.506474\n",
       "289               0  0.138889         0.264940\n",
       "4356              0  0.041667         0.005478\n",
       "6222              0  0.916667         0.708665\n",
       "1790              0  0.166667         0.596116"
      ]
     },
     "execution_count": 27,
     "metadata": {},
     "output_type": "execute_result"
    }
   ],
   "source": [
    "#concat cat and num datasets\n",
    "\n",
    "X_train_transformed = pd.concat([X_train_cat, X_train_num_scaled], axis=1)\n",
    "X_test_transformed = pd.concat([X_test_cat, X_test_num_scaled], axis=1)\n",
    "\n",
    "X_train_transformed.head()"
   ]
  },
  {
   "cell_type": "code",
   "execution_count": 28,
   "id": "1ccda731-6429-4c96-97db-e668fa4e18ba",
   "metadata": {},
   "outputs": [
    {
     "data": {
      "text/plain": [
       "(5282, 3)"
      ]
     },
     "execution_count": 28,
     "metadata": {},
     "output_type": "execute_result"
    }
   ],
   "source": [
    "X_train_transformed.shape"
   ]
  },
  {
   "cell_type": "code",
   "execution_count": 29,
   "id": "d08e3c71-24f3-4bd3-a2a0-5ce0075f7643",
   "metadata": {},
   "outputs": [
    {
     "data": {
      "text/plain": [
       "(1761, 3)"
      ]
     },
     "execution_count": 29,
     "metadata": {},
     "output_type": "execute_result"
    }
   ],
   "source": [
    "X_test_transformed.shape"
   ]
  },
  {
   "cell_type": "markdown",
   "id": "df582700-bf74-4e5c-9569-2af4f350673b",
   "metadata": {},
   "source": [
    "### Creating a Logistic Regression model"
   ]
  },
  {
   "cell_type": "code",
   "execution_count": 30,
   "id": "165645ff-e389-40bd-8edf-8fa0ca8c7cc3",
   "metadata": {},
   "outputs": [],
   "source": [
    "classification = LogisticRegression(random_state=0, solver='lbfgs', multi_class='multinomial')\n",
    "\n",
    "#fit\n",
    "classification.fit(X_train_transformed, y_train)\n",
    "\n",
    "#predict\n",
    "y_train_pred = classification.predict(X_train_transformed)\n",
    "y_test_pred = classification.predict(X_test_transformed)"
   ]
  },
  {
   "cell_type": "markdown",
   "id": "c53dce9d-178e-49c7-8743-a26ccf2dec29",
   "metadata": {},
   "source": [
    "### Evaluating the model"
   ]
  },
  {
   "cell_type": "code",
   "execution_count": 31,
   "id": "ccc2b1e7-31bf-4350-aeff-a24f9ecd57e6",
   "metadata": {},
   "outputs": [
    {
     "name": "stdout",
     "output_type": "stream",
     "text": [
      "The accuracy in the TEST set is: 0.80\n",
      "The precision in the TEST set is: 0.61\n",
      "The recall in the TEST set is: 0.47\n",
      "The F1 in the TEST set is: 0.53\n",
      "The Kappa in the TEST set is: 0.40\n"
     ]
    }
   ],
   "source": [
    "from sklearn.metrics import accuracy_score, precision_score, recall_score, f1_score, cohen_kappa_score\n",
    "\n",
    "print(\"The accuracy in the TEST set is: {:.2f}\".format(accuracy_score(y_test,y_test_pred)))\n",
    "print(\"The precision in the TEST set is: {:.2f}\".format(precision_score(y_test,y_test_pred)))\n",
    "print(\"The recall in the TEST set is: {:.2f}\".format(recall_score(y_test,y_test_pred)))\n",
    "print(\"The F1 in the TEST set is: {:.2f}\".format(f1_score(y_test,y_test_pred)))\n",
    "print(\"The Kappa in the TEST set is: {:.2f}\".format(cohen_kappa_score(y_test,y_test_pred)))"
   ]
  },
  {
   "cell_type": "code",
   "execution_count": 32,
   "id": "6d296338-108e-442a-ad7c-26a1a7b88495",
   "metadata": {},
   "outputs": [
    {
     "data": {
      "image/png": "[encoded data removed]",
      "text/plain": [
       "<Figure size 640x480 with 2 Axes>"
      ]
     },
     "metadata": {},
     "output_type": "display_data"
    }
   ],
   "source": [
    "from sklearn.metrics import confusion_matrix, ConfusionMatrixDisplay\n",
    "\n",
    "cm_test = confusion_matrix(y_test,y_test_pred)\n",
    "disp = ConfusionMatrixDisplay(confusion_matrix=cm_test, display_labels=classification.classes_)\n",
    "disp.plot()\n",
    "plt.show()"
   ]
  },
  {
   "cell_type": "code",
   "execution_count": 33,
   "id": "f80a4b02-51ef-4630-9284-03d95d6b1305",
   "metadata": {},
   "outputs": [
    {
     "data": {
      "text/plain": [
       "(1761,)"
      ]
     },
     "execution_count": 33,
     "metadata": {},
     "output_type": "execute_result"
    }
   ],
   "source": [
    "y_test_pred.shape"
   ]
  },
  {
   "cell_type": "markdown",
   "id": "27bc40f5-f81a-4171-ac7c-7565d3add07c",
   "metadata": {},
   "source": [
    "20% of the dataset was mislabeled. This is not unexpected since our dataset overrepresents `churn` = 'No'"
   ]
  },
  {
   "cell_type": "markdown",
   "id": "c7964e93-7016-4e89-8c9f-8e8f247ffda6",
   "metadata": {},
   "source": [
    "### Sythetic Minority Oversampling Technique (SMOTE)\n",
    "Applying SMOTE to the dataset, then will check whether there was any improvement in the model."
   ]
  },
  {
   "cell_type": "code",
   "execution_count": 34,
   "id": "d2725a59-c93b-463b-9c48-9871d4d39cdc",
   "metadata": {},
   "outputs": [],
   "source": [
    "from imblearn.over_sampling import SMOTE"
   ]
  },
  {
   "cell_type": "code",
   "execution_count": 35,
   "id": "27fe7df5-2ca7-43df-b491-86407dac18ea",
   "metadata": {},
   "outputs": [],
   "source": [
    "sm = SMOTE(random_state=100, k_neighbors=3) #tried k_neighbors=5 as well, didn't change anything"
   ]
  },
  {
   "cell_type": "code",
   "execution_count": 36,
   "id": "ae7697eb-ffdd-4673-94e7-454a70a18be7",
   "metadata": {},
   "outputs": [],
   "source": [
    "X_train_SMOTE,y_train_SMOTE = sm.fit_resample(X_train_transformed,y_train)"
   ]
  },
  {
   "cell_type": "code",
   "execution_count": 37,
   "id": "b39406e7-cd01-416f-848f-0f60c1ce8a00",
   "metadata": {},
   "outputs": [
    {
     "name": "stdout",
     "output_type": "stream",
     "text": [
      "(5282, 3)\n",
      "(7694, 3)\n"
     ]
    }
   ],
   "source": [
    "print(X_train_transformed.shape)\n",
    "print(X_train_SMOTE.shape)"
   ]
  },
  {
   "cell_type": "code",
   "execution_count": 38,
   "id": "6edfaf01-7f21-447a-b948-fb1c61eccd6c",
   "metadata": {},
   "outputs": [
    {
     "data": {
      "text/plain": [
       "churn\n",
       "0    3847\n",
       "1    3847\n",
       "Name: count, dtype: int64"
      ]
     },
     "execution_count": 38,
     "metadata": {},
     "output_type": "execute_result"
    }
   ],
   "source": [
    "y_train_SMOTE.value_counts()"
   ]
  },
  {
   "cell_type": "markdown",
   "id": "5e2da009-4485-46a5-91cb-61b39b3d973e",
   "metadata": {},
   "source": [
    "#### Train a new model with the SMOTE dataset"
   ]
  },
  {
   "cell_type": "code",
   "execution_count": 39,
   "id": "d0a663bb-a1c8-41c3-93a6-b18dad3baff9",
   "metadata": {},
   "outputs": [
    {
     "name": "stdout",
     "output_type": "stream",
     "text": [
      "The accuracy in the TEST set is: 0.74\n",
      "The precision in the TEST set is: 0.48\n",
      "The recall in the TEST set is: 0.74\n",
      "The F1 in the TEST set is: 0.58\n",
      "The Kappa in the TEST set is: 0.41\n"
     ]
    }
   ],
   "source": [
    "lr = LogisticRegression(max_iter=1000)\n",
    "\n",
    "#fit\n",
    "lr.fit(X_train_SMOTE, y_train_SMOTE)\n",
    "\n",
    "#predict\n",
    "y_test_pred = lr.predict(X_test_transformed)\n",
    "\n",
    "print(\"The accuracy in the TEST set is: {:.2f}\".format(accuracy_score(y_test,y_test_pred)))\n",
    "print(\"The precision in the TEST set is: {:.2f}\".format(precision_score(y_test,y_test_pred)))\n",
    "print(\"The recall in the TEST set is: {:.2f}\".format(recall_score(y_test,y_test_pred)))\n",
    "print(\"The F1 in the TEST set is: {:.2f}\".format(f1_score(y_test,y_test_pred)))\n",
    "print(\"The Kappa in the TEST set is: {:.2f}\".format(cohen_kappa_score(y_test,y_test_pred)))"
   ]
  },
  {
   "cell_type": "code",
   "execution_count": 40,
   "id": "8fea5c45-a5b9-4988-90be-4a03d7b7ca30",
   "metadata": {},
   "outputs": [
    {
     "data": {
      "image/png": "[encoded data removed]",
      "text/plain": [
       "<Figure size 640x480 with 2 Axes>"
      ]
     },
     "metadata": {},
     "output_type": "display_data"
    }
   ],
   "source": [
    "cm_test = confusion_matrix(y_test,y_test_pred)\n",
    "disp = ConfusionMatrixDisplay(confusion_matrix=cm_test, display_labels=lr.classes_)\n",
    "disp.plot()\n",
    "plt.show()"
   ]
  },
  {
   "cell_type": "markdown",
   "id": "0084fa67-591e-46a3-bf2f-cdb26222b976",
   "metadata": {},
   "source": [
    "#### First model\n",
    "The accuracy in the TEST set is: 0.80\n",
    "\n",
    "The precision in the TEST set is: 0.61\n",
    "\n",
    "The recall in the TEST set is: 0.47\n",
    "\n",
    "The F1 in the TEST set is: 0.53\n",
    "\n",
    "The Kappa in the TEST set is: 0.40\n",
    "\n",
    "\n",
    "#### After SMOTE\n",
    "The accuracy in the TEST set is: 0.74\n",
    "\n",
    "The precision in the TEST set is: 0.48\n",
    "\n",
    "The recall in the TEST set is: 0.74\n",
    "\n",
    "The F1 in the TEST set is: 0.58\n",
    "\n",
    "The Kappa in the TEST set is: 0.41\n",
    "\n",
    "\n",
    "#### Recall improved after dealing with class imbalance using SMOTE\n",
    "\n",
    "I think this would be an improvement because with this model there are fewer type II cases, people who did churn but your model predicts that they don't. "
   ]
  },
  {
   "cell_type": "code",
   "execution_count": 41,
   "id": "a17a007b-5a04-4692-b31c-a056e3e8b9ab",
   "metadata": {},
   "outputs": [
    {
     "data": {
      "text/plain": [
       "[('senior_citizen', 0.632299331710915),\n",
       " ('tenure', 3.8807249326177407),\n",
       " ('monthly_charges', 3.2128366151286913)]"
      ]
     },
     "execution_count": 41,
     "metadata": {},
     "output_type": "execute_result"
    }
   ],
   "source": [
    "list(zip(list(X_test.columns), list(np.abs(lr.coef_)[0])))"
   ]
  },
  {
   "cell_type": "markdown",
   "id": "6cdd7655-35c7-4c30-bc9d-9aaf84c1a6dc",
   "metadata": {},
   "source": [
    "`tenure` affects the model the most, followed by `monthly_charges`"
   ]
  },
  {
   "cell_type": "code",
   "execution_count": null,
   "id": "7606867d-bd88-457b-b45e-4ba70420ee79",
   "metadata": {},
   "outputs": [],
   "source": []
  }
 ],
 "metadata": {
  "kernelspec": {
   "display_name": "venv",
   "language": "python",
   "name": "venv"
  },
  "language_info": {
   "codemirror_mode": {
    "name": "ipython",
    "version": 3
   },
   "file_extension": ".py",
   "mimetype": "text/x-python",
   "name": "python",
   "nbconvert_exporter": "python",
   "pygments_lexer": "ipython3",
   "version": "3.11.4"
  }
 },
 "nbformat": 4,
 "nbformat_minor": 5
}
